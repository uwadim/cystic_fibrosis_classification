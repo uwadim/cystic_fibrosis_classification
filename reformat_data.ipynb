{
 "cells": [
  {
   "cell_type": "code",
   "execution_count": 1,
   "metadata": {
    "collapsed": true
   },
   "outputs": [],
   "source": [
    "import pandas as pd\n",
    "import itertools\n",
    "\n",
    "def calc_edges(node1: float, node2: float, make_indicator: bool = False) -> float:\n",
    "    \"\"\"Calculates the symmetrical weight of edges in the graph\n",
    "    Symmetrical means that if one of node values is equal to zero, returns zero\n",
    "\n",
    "    Parameters\n",
    "    ----------\n",
    "    node1 : float\n",
    "        value of node\n",
    "    node2 : float\n",
    "        value of node\n",
    "    make_indicator : bool, default=False\n",
    "        flag, whether to make weight of ages as ones for nonzero nodes\n",
    "\n",
    "    Returns\n",
    "    -------\n",
    "    float\n",
    "        edge weight\n",
    "    \"\"\"\n",
    "    if node1 == 0 or node2 == 0:\n",
    "        return 0\n",
    "    return 1 if make_indicator else node1 / node2\n"
   ]
  },
  {
   "cell_type": "code",
   "execution_count": 2,
   "outputs": [
    {
     "data": {
      "text/plain": "    Sample Name  Group  16_00437621316582  17_021539190698192  \\\n0          Id_1      0                0.0          328.333333   \n1          Id_2      0                0.0          287.666667   \n2          Id_3      0                0.0          242.000000   \n3          Id_4      1                0.0          207.000000   \n4          Id_5      1                0.0          225.666667   \n..          ...    ...                ...                 ...   \n100      Id_101      1                0.0          242.666667   \n101      Id_102      1                0.0          249.000000   \n102      Id_103      0                0.0          227.666667   \n103      Id_104      1               79.0         4752.000000   \n104      Id_105      0                0.0          309.333333   \n\n     18_038469966740735  18_29915765289428  18_63043828897158  \\\n0          15256.666667           0.000000           0.000000   \n1          10707.333333           0.000000           0.000000   \n2           8218.000000           0.000000           0.000000   \n3           4295.000000           0.000000         110.666667   \n4           4950.666667           0.000000           0.000000   \n..                  ...                ...                ...   \n100         4887.666667           0.000000           0.000000   \n101         4814.666667           0.000000           0.000000   \n102         5039.666667           0.000000           0.000000   \n103       108119.000000         114.333333        1013.000000   \n104        11987.333333           0.000000           0.000000   \n\n     18_87945690818552  18_943778909567843  19_040493421214805  ...  \\\n0          1862.666667          142.666667       199622.000000  ...   \n1          1628.666667            0.000000       204483.000000  ...   \n2          1581.000000            0.000000       205679.666667  ...   \n3          1788.666667          286.666667       202050.000000  ...   \n4          1638.333333            0.000000       204870.666667  ...   \n..                 ...                 ...                 ...  ...   \n100        1619.000000          101.000000       204885.666667  ...   \n101        1642.666667          100.666667       204434.333333  ...   \n102        1627.000000            0.000000       205926.666667  ...   \n103        2908.666667          425.000000       180078.000000  ...   \n104        1719.666667            0.000000       203578.333333  ...   \n\n     429_0919133669904  430_05858392387927  431_0338918422529  \\\n0                  0.0                 0.0                0.0   \n1                  0.0                 0.0                0.0   \n2                  0.0                 0.0                0.0   \n3                  0.0                 0.0                0.0   \n4                  0.0                 0.0                0.0   \n..                 ...                 ...                ...   \n100                0.0                 0.0                0.0   \n101              217.0                 0.0                0.0   \n102                0.0                 0.0                0.0   \n103                0.0                 0.0                0.0   \n104                0.0                 0.0                0.0   \n\n     443_04198484160145  445_0972017708983  447_05657737924486  \\\n0                   0.0                0.0                 0.0   \n1                   0.0                0.0                 0.0   \n2                   0.0                0.0                 0.0   \n3                   0.0                0.0                 0.0   \n4                   0.0                0.0                 0.0   \n..                  ...                ...                 ...   \n100                 0.0                0.0                 0.0   \n101                 0.0              167.0                 0.0   \n102                 0.0                0.0                 0.0   \n103                 0.0                0.0                 0.0   \n104                 0.0                0.0                 0.0   \n\n     517_0325219174968  518_0392964367509  533_0672614483142  \\\n0                  0.0                0.0                0.0   \n1                  0.0                0.0                0.0   \n2                  0.0                0.0                0.0   \n3                  0.0                0.0                0.0   \n4                  0.0                0.0                0.0   \n..                 ...                ...                ...   \n100                0.0                0.0                0.0   \n101                0.0                0.0                0.0   \n102                0.0                0.0                0.0   \n103                0.0                0.0                0.0   \n104                0.0                0.0                0.0   \n\n     575_8644098061574  \n0                  0.0  \n1                  0.0  \n2                  0.0  \n3                  0.0  \n4                  0.0  \n..                 ...  \n100                0.0  \n101                0.0  \n102                0.0  \n103                0.0  \n104                0.0  \n\n[105 rows x 130 columns]",
      "text/html": "<div>\n<style scoped>\n    .dataframe tbody tr th:only-of-type {\n        vertical-align: middle;\n    }\n\n    .dataframe tbody tr th {\n        vertical-align: top;\n    }\n\n    .dataframe thead th {\n        text-align: right;\n    }\n</style>\n<table border=\"1\" class=\"dataframe\">\n  <thead>\n    <tr style=\"text-align: right;\">\n      <th></th>\n      <th>Sample Name</th>\n      <th>Group</th>\n      <th>16_00437621316582</th>\n      <th>17_021539190698192</th>\n      <th>18_038469966740735</th>\n      <th>18_29915765289428</th>\n      <th>18_63043828897158</th>\n      <th>18_87945690818552</th>\n      <th>18_943778909567843</th>\n      <th>19_040493421214805</th>\n      <th>...</th>\n      <th>429_0919133669904</th>\n      <th>430_05858392387927</th>\n      <th>431_0338918422529</th>\n      <th>443_04198484160145</th>\n      <th>445_0972017708983</th>\n      <th>447_05657737924486</th>\n      <th>517_0325219174968</th>\n      <th>518_0392964367509</th>\n      <th>533_0672614483142</th>\n      <th>575_8644098061574</th>\n    </tr>\n  </thead>\n  <tbody>\n    <tr>\n      <th>0</th>\n      <td>Id_1</td>\n      <td>0</td>\n      <td>0.0</td>\n      <td>328.333333</td>\n      <td>15256.666667</td>\n      <td>0.000000</td>\n      <td>0.000000</td>\n      <td>1862.666667</td>\n      <td>142.666667</td>\n      <td>199622.000000</td>\n      <td>...</td>\n      <td>0.0</td>\n      <td>0.0</td>\n      <td>0.0</td>\n      <td>0.0</td>\n      <td>0.0</td>\n      <td>0.0</td>\n      <td>0.0</td>\n      <td>0.0</td>\n      <td>0.0</td>\n      <td>0.0</td>\n    </tr>\n    <tr>\n      <th>1</th>\n      <td>Id_2</td>\n      <td>0</td>\n      <td>0.0</td>\n      <td>287.666667</td>\n      <td>10707.333333</td>\n      <td>0.000000</td>\n      <td>0.000000</td>\n      <td>1628.666667</td>\n      <td>0.000000</td>\n      <td>204483.000000</td>\n      <td>...</td>\n      <td>0.0</td>\n      <td>0.0</td>\n      <td>0.0</td>\n      <td>0.0</td>\n      <td>0.0</td>\n      <td>0.0</td>\n      <td>0.0</td>\n      <td>0.0</td>\n      <td>0.0</td>\n      <td>0.0</td>\n    </tr>\n    <tr>\n      <th>2</th>\n      <td>Id_3</td>\n      <td>0</td>\n      <td>0.0</td>\n      <td>242.000000</td>\n      <td>8218.000000</td>\n      <td>0.000000</td>\n      <td>0.000000</td>\n      <td>1581.000000</td>\n      <td>0.000000</td>\n      <td>205679.666667</td>\n      <td>...</td>\n      <td>0.0</td>\n      <td>0.0</td>\n      <td>0.0</td>\n      <td>0.0</td>\n      <td>0.0</td>\n      <td>0.0</td>\n      <td>0.0</td>\n      <td>0.0</td>\n      <td>0.0</td>\n      <td>0.0</td>\n    </tr>\n    <tr>\n      <th>3</th>\n      <td>Id_4</td>\n      <td>1</td>\n      <td>0.0</td>\n      <td>207.000000</td>\n      <td>4295.000000</td>\n      <td>0.000000</td>\n      <td>110.666667</td>\n      <td>1788.666667</td>\n      <td>286.666667</td>\n      <td>202050.000000</td>\n      <td>...</td>\n      <td>0.0</td>\n      <td>0.0</td>\n      <td>0.0</td>\n      <td>0.0</td>\n      <td>0.0</td>\n      <td>0.0</td>\n      <td>0.0</td>\n      <td>0.0</td>\n      <td>0.0</td>\n      <td>0.0</td>\n    </tr>\n    <tr>\n      <th>4</th>\n      <td>Id_5</td>\n      <td>1</td>\n      <td>0.0</td>\n      <td>225.666667</td>\n      <td>4950.666667</td>\n      <td>0.000000</td>\n      <td>0.000000</td>\n      <td>1638.333333</td>\n      <td>0.000000</td>\n      <td>204870.666667</td>\n      <td>...</td>\n      <td>0.0</td>\n      <td>0.0</td>\n      <td>0.0</td>\n      <td>0.0</td>\n      <td>0.0</td>\n      <td>0.0</td>\n      <td>0.0</td>\n      <td>0.0</td>\n      <td>0.0</td>\n      <td>0.0</td>\n    </tr>\n    <tr>\n      <th>...</th>\n      <td>...</td>\n      <td>...</td>\n      <td>...</td>\n      <td>...</td>\n      <td>...</td>\n      <td>...</td>\n      <td>...</td>\n      <td>...</td>\n      <td>...</td>\n      <td>...</td>\n      <td>...</td>\n      <td>...</td>\n      <td>...</td>\n      <td>...</td>\n      <td>...</td>\n      <td>...</td>\n      <td>...</td>\n      <td>...</td>\n      <td>...</td>\n      <td>...</td>\n      <td>...</td>\n    </tr>\n    <tr>\n      <th>100</th>\n      <td>Id_101</td>\n      <td>1</td>\n      <td>0.0</td>\n      <td>242.666667</td>\n      <td>4887.666667</td>\n      <td>0.000000</td>\n      <td>0.000000</td>\n      <td>1619.000000</td>\n      <td>101.000000</td>\n      <td>204885.666667</td>\n      <td>...</td>\n      <td>0.0</td>\n      <td>0.0</td>\n      <td>0.0</td>\n      <td>0.0</td>\n      <td>0.0</td>\n      <td>0.0</td>\n      <td>0.0</td>\n      <td>0.0</td>\n      <td>0.0</td>\n      <td>0.0</td>\n    </tr>\n    <tr>\n      <th>101</th>\n      <td>Id_102</td>\n      <td>1</td>\n      <td>0.0</td>\n      <td>249.000000</td>\n      <td>4814.666667</td>\n      <td>0.000000</td>\n      <td>0.000000</td>\n      <td>1642.666667</td>\n      <td>100.666667</td>\n      <td>204434.333333</td>\n      <td>...</td>\n      <td>217.0</td>\n      <td>0.0</td>\n      <td>0.0</td>\n      <td>0.0</td>\n      <td>167.0</td>\n      <td>0.0</td>\n      <td>0.0</td>\n      <td>0.0</td>\n      <td>0.0</td>\n      <td>0.0</td>\n    </tr>\n    <tr>\n      <th>102</th>\n      <td>Id_103</td>\n      <td>0</td>\n      <td>0.0</td>\n      <td>227.666667</td>\n      <td>5039.666667</td>\n      <td>0.000000</td>\n      <td>0.000000</td>\n      <td>1627.000000</td>\n      <td>0.000000</td>\n      <td>205926.666667</td>\n      <td>...</td>\n      <td>0.0</td>\n      <td>0.0</td>\n      <td>0.0</td>\n      <td>0.0</td>\n      <td>0.0</td>\n      <td>0.0</td>\n      <td>0.0</td>\n      <td>0.0</td>\n      <td>0.0</td>\n      <td>0.0</td>\n    </tr>\n    <tr>\n      <th>103</th>\n      <td>Id_104</td>\n      <td>1</td>\n      <td>79.0</td>\n      <td>4752.000000</td>\n      <td>108119.000000</td>\n      <td>114.333333</td>\n      <td>1013.000000</td>\n      <td>2908.666667</td>\n      <td>425.000000</td>\n      <td>180078.000000</td>\n      <td>...</td>\n      <td>0.0</td>\n      <td>0.0</td>\n      <td>0.0</td>\n      <td>0.0</td>\n      <td>0.0</td>\n      <td>0.0</td>\n      <td>0.0</td>\n      <td>0.0</td>\n      <td>0.0</td>\n      <td>0.0</td>\n    </tr>\n    <tr>\n      <th>104</th>\n      <td>Id_105</td>\n      <td>0</td>\n      <td>0.0</td>\n      <td>309.333333</td>\n      <td>11987.333333</td>\n      <td>0.000000</td>\n      <td>0.000000</td>\n      <td>1719.666667</td>\n      <td>0.000000</td>\n      <td>203578.333333</td>\n      <td>...</td>\n      <td>0.0</td>\n      <td>0.0</td>\n      <td>0.0</td>\n      <td>0.0</td>\n      <td>0.0</td>\n      <td>0.0</td>\n      <td>0.0</td>\n      <td>0.0</td>\n      <td>0.0</td>\n      <td>0.0</td>\n    </tr>\n  </tbody>\n</table>\n<p>105 rows × 130 columns</p>\n</div>"
     },
     "execution_count": 2,
     "metadata": {},
     "output_type": "execute_result"
    }
   ],
   "source": [
    "df = pd.read_csv('data/сystic_fibrosis_11_01_2023 - сystic_fibrosis_11_01_2023.csv.csv')\n",
    "df"
   ],
   "metadata": {
    "collapsed": false
   }
  },
  {
   "cell_type": "code",
   "execution_count": 3,
   "outputs": [],
   "source": [
    "# преобразуем названия узлов в удобочитаемые\n",
    "map_nodes_dict = {v: f'n_{k - 1}' for k, v in enumerate(df.columns) if v not in ['Sample Name', 'Group']}\n",
    "map_nodes_dict_inv = {v: k for k, v in map_nodes_dict.items()}"
   ],
   "metadata": {
    "collapsed": false
   }
  },
  {
   "cell_type": "code",
   "execution_count": 4,
   "outputs": [],
   "source": [
    "# dataFrame с комбинацией всех узлов\n",
    "result_df = pd.DataFrame(list(itertools.combinations(map_nodes_dict.values(), 2)), columns=['p1', 'p2'])"
   ],
   "metadata": {
    "collapsed": false
   }
  },
  {
   "cell_type": "code",
   "execution_count": 5,
   "outputs": [],
   "source": [
    "for idx in df.index:\n",
    "    result_df.loc[:, df.loc[idx, 'Sample Name']] = \\\n",
    "        result_df.apply(lambda x: calc_edges(df.iloc[idx, :][map_nodes_dict_inv[x['p1']]],\n",
    "                                             df.iloc[idx, :][map_nodes_dict_inv[x['p2']]],\n",
    "                                             make_indicator=True), axis=1)"
   ],
   "metadata": {
    "collapsed": false
   }
  },
  {
   "cell_type": "code",
   "execution_count": 6,
   "outputs": [
    {
     "data": {
      "text/plain": "    p1   p2  Id_1  Id_2  Id_3  Id_4  Id_5  Id_6  Id_7  Id_8  ...  Id_96  \\\n0  n_1  n_2     0     0     0     0     0     0     0     0  ...      0   \n1  n_1  n_3     0     0     0     0     0     0     0     0  ...      0   \n2  n_1  n_4     0     0     0     0     0     0     0     0  ...      0   \n3  n_1  n_5     0     0     0     0     0     0     0     0  ...      0   \n4  n_1  n_6     0     0     0     0     0     0     0     0  ...      0   \n\n   Id_97  Id_98  Id_99  Id_100  Id_101  Id_102  Id_103  Id_104  Id_105  \n0      0      0      0       0       0       0       0       1       0  \n1      0      0      0       0       0       0       0       1       0  \n2      0      0      0       0       0       0       0       1       0  \n3      0      0      0       0       0       0       0       1       0  \n4      0      0      0       0       0       0       0       1       0  \n\n[5 rows x 107 columns]",
      "text/html": "<div>\n<style scoped>\n    .dataframe tbody tr th:only-of-type {\n        vertical-align: middle;\n    }\n\n    .dataframe tbody tr th {\n        vertical-align: top;\n    }\n\n    .dataframe thead th {\n        text-align: right;\n    }\n</style>\n<table border=\"1\" class=\"dataframe\">\n  <thead>\n    <tr style=\"text-align: right;\">\n      <th></th>\n      <th>p1</th>\n      <th>p2</th>\n      <th>Id_1</th>\n      <th>Id_2</th>\n      <th>Id_3</th>\n      <th>Id_4</th>\n      <th>Id_5</th>\n      <th>Id_6</th>\n      <th>Id_7</th>\n      <th>Id_8</th>\n      <th>...</th>\n      <th>Id_96</th>\n      <th>Id_97</th>\n      <th>Id_98</th>\n      <th>Id_99</th>\n      <th>Id_100</th>\n      <th>Id_101</th>\n      <th>Id_102</th>\n      <th>Id_103</th>\n      <th>Id_104</th>\n      <th>Id_105</th>\n    </tr>\n  </thead>\n  <tbody>\n    <tr>\n      <th>0</th>\n      <td>n_1</td>\n      <td>n_2</td>\n      <td>0</td>\n      <td>0</td>\n      <td>0</td>\n      <td>0</td>\n      <td>0</td>\n      <td>0</td>\n      <td>0</td>\n      <td>0</td>\n      <td>...</td>\n      <td>0</td>\n      <td>0</td>\n      <td>0</td>\n      <td>0</td>\n      <td>0</td>\n      <td>0</td>\n      <td>0</td>\n      <td>0</td>\n      <td>1</td>\n      <td>0</td>\n    </tr>\n    <tr>\n      <th>1</th>\n      <td>n_1</td>\n      <td>n_3</td>\n      <td>0</td>\n      <td>0</td>\n      <td>0</td>\n      <td>0</td>\n      <td>0</td>\n      <td>0</td>\n      <td>0</td>\n      <td>0</td>\n      <td>...</td>\n      <td>0</td>\n      <td>0</td>\n      <td>0</td>\n      <td>0</td>\n      <td>0</td>\n      <td>0</td>\n      <td>0</td>\n      <td>0</td>\n      <td>1</td>\n      <td>0</td>\n    </tr>\n    <tr>\n      <th>2</th>\n      <td>n_1</td>\n      <td>n_4</td>\n      <td>0</td>\n      <td>0</td>\n      <td>0</td>\n      <td>0</td>\n      <td>0</td>\n      <td>0</td>\n      <td>0</td>\n      <td>0</td>\n      <td>...</td>\n      <td>0</td>\n      <td>0</td>\n      <td>0</td>\n      <td>0</td>\n      <td>0</td>\n      <td>0</td>\n      <td>0</td>\n      <td>0</td>\n      <td>1</td>\n      <td>0</td>\n    </tr>\n    <tr>\n      <th>3</th>\n      <td>n_1</td>\n      <td>n_5</td>\n      <td>0</td>\n      <td>0</td>\n      <td>0</td>\n      <td>0</td>\n      <td>0</td>\n      <td>0</td>\n      <td>0</td>\n      <td>0</td>\n      <td>...</td>\n      <td>0</td>\n      <td>0</td>\n      <td>0</td>\n      <td>0</td>\n      <td>0</td>\n      <td>0</td>\n      <td>0</td>\n      <td>0</td>\n      <td>1</td>\n      <td>0</td>\n    </tr>\n    <tr>\n      <th>4</th>\n      <td>n_1</td>\n      <td>n_6</td>\n      <td>0</td>\n      <td>0</td>\n      <td>0</td>\n      <td>0</td>\n      <td>0</td>\n      <td>0</td>\n      <td>0</td>\n      <td>0</td>\n      <td>...</td>\n      <td>0</td>\n      <td>0</td>\n      <td>0</td>\n      <td>0</td>\n      <td>0</td>\n      <td>0</td>\n      <td>0</td>\n      <td>0</td>\n      <td>1</td>\n      <td>0</td>\n    </tr>\n  </tbody>\n</table>\n<p>5 rows × 107 columns</p>\n</div>"
     },
     "execution_count": 6,
     "metadata": {},
     "output_type": "execute_result"
    }
   ],
   "source": [
    "result_df.head()"
   ],
   "metadata": {
    "collapsed": false
   }
  },
  {
   "cell_type": "code",
   "execution_count": 7,
   "outputs": [],
   "source": [
    "result_df.to_csv('data/raw/сystic_fibrosis_network_symmetrical_indic_11_01_2023.csv', index=False)"
   ],
   "metadata": {
    "collapsed": false
   }
  },
  {
   "cell_type": "code",
   "execution_count": null,
   "outputs": [],
   "source": [],
   "metadata": {
    "collapsed": false
   }
  }
 ],
 "metadata": {
  "kernelspec": {
   "display_name": "Python 3",
   "language": "python",
   "name": "python3"
  },
  "language_info": {
   "codemirror_mode": {
    "name": "ipython",
    "version": 2
   },
   "file_extension": ".py",
   "mimetype": "text/x-python",
   "name": "python",
   "nbconvert_exporter": "python",
   "pygments_lexer": "ipython2",
   "version": "2.7.6"
  }
 },
 "nbformat": 4,
 "nbformat_minor": 0
}
