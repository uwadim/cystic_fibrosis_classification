{
 "cells": [
  {
   "cell_type": "code",
   "execution_count": 16,
   "metadata": {
    "collapsed": true
   },
   "outputs": [],
   "source": [
    "import pandas as pd\n",
    "import itertools\n",
    "\n",
    "def calc_edges(node1: float, node2: float) -> float:\n",
    "    \"\"\"Calculates the symmetrical weight of edges in the graph\n",
    "    Symmetrical means that if one of node values is equal to zero, returns zero\n",
    "\n",
    "    Parameters\n",
    "    ----------\n",
    "    node1 : float\n",
    "        value of node\n",
    "    node2 : float\n",
    "        value of node\n",
    "\n",
    "    Returns\n",
    "    -------\n",
    "    float\n",
    "        edge weight\n",
    "    \"\"\"\n",
    "    if node1 == 0 or node2 == 0:\n",
    "        return 0\n",
    "    return node1 / node2\n"
   ]
  },
  {
   "cell_type": "code",
   "execution_count": 21,
   "outputs": [
    {
     "data": {
      "text/plain": "         p1     p2\n0       n_1    n_2\n1       n_1    n_3\n2       n_1    n_4\n3       n_1    n_5\n4       n_1    n_6\n...     ...    ...\n8123  n_125  n_127\n8124  n_125  n_128\n8125  n_126  n_127\n8126  n_126  n_128\n8127  n_127  n_128\n\n[8128 rows x 2 columns]",
      "text/html": "<div>\n<style scoped>\n    .dataframe tbody tr th:only-of-type {\n        vertical-align: middle;\n    }\n\n    .dataframe tbody tr th {\n        vertical-align: top;\n    }\n\n    .dataframe thead th {\n        text-align: right;\n    }\n</style>\n<table border=\"1\" class=\"dataframe\">\n  <thead>\n    <tr style=\"text-align: right;\">\n      <th></th>\n      <th>p1</th>\n      <th>p2</th>\n    </tr>\n  </thead>\n  <tbody>\n    <tr>\n      <th>0</th>\n      <td>n_1</td>\n      <td>n_2</td>\n    </tr>\n    <tr>\n      <th>1</th>\n      <td>n_1</td>\n      <td>n_3</td>\n    </tr>\n    <tr>\n      <th>2</th>\n      <td>n_1</td>\n      <td>n_4</td>\n    </tr>\n    <tr>\n      <th>3</th>\n      <td>n_1</td>\n      <td>n_5</td>\n    </tr>\n    <tr>\n      <th>4</th>\n      <td>n_1</td>\n      <td>n_6</td>\n    </tr>\n    <tr>\n      <th>...</th>\n      <td>...</td>\n      <td>...</td>\n    </tr>\n    <tr>\n      <th>8123</th>\n      <td>n_125</td>\n      <td>n_127</td>\n    </tr>\n    <tr>\n      <th>8124</th>\n      <td>n_125</td>\n      <td>n_128</td>\n    </tr>\n    <tr>\n      <th>8125</th>\n      <td>n_126</td>\n      <td>n_127</td>\n    </tr>\n    <tr>\n      <th>8126</th>\n      <td>n_126</td>\n      <td>n_128</td>\n    </tr>\n    <tr>\n      <th>8127</th>\n      <td>n_127</td>\n      <td>n_128</td>\n    </tr>\n  </tbody>\n</table>\n<p>8128 rows × 2 columns</p>\n</div>"
     },
     "execution_count": 21,
     "metadata": {},
     "output_type": "execute_result"
    }
   ],
   "source": [
    "df = pd.read_csv('data/сystic_fibrosis_11_01_2023 - сystic_fibrosis_11_01_2023.csv.csv')\n",
    "df"
   ],
   "metadata": {
    "collapsed": false
   }
  },
  {
   "cell_type": "code",
   "execution_count": 43,
   "outputs": [],
   "source": [
    "# преобразуем названия узлов в удобочитаемые\n",
    "map_nodes_dict = {v: f'n_{k - 1}' for k, v in enumerate(df.columns) if v not in ['Sample Name', 'Group']}\n",
    "map_nodes_dict_inv = {v: k for k, v in map_nodes_dict.items()}"
   ],
   "metadata": {
    "collapsed": false
   }
  },
  {
   "cell_type": "code",
   "execution_count": 22,
   "outputs": [],
   "source": [
    "# dataFrame с комбинацией всех узлов\n",
    "result_df = pd.DataFrame(list(itertools.combinations(map_nodes_dict.values(), 2)), columns=['p1', 'p2'])"
   ],
   "metadata": {
    "collapsed": false
   }
  },
  {
   "cell_type": "code",
   "execution_count": 47,
   "outputs": [],
   "source": [
    "for idx in df.index:\n",
    "    result_df.loc[:, df.loc[idx, 'Sample Name']] = \\\n",
    "        result_df.apply(lambda x: calc_edges(df.iloc[idx, :][map_nodes_dict_inv[x['p1']]],\n",
    "                                             df.iloc[idx, :][map_nodes_dict_inv[x['p2']]]), axis=1)"
   ],
   "metadata": {
    "collapsed": false
   }
  },
  {
   "cell_type": "code",
   "execution_count": 49,
   "outputs": [
    {
     "data": {
      "text/plain": "    p1   p2  Id_1  Id_2  Id_3  Id_4  Id_5  Id_6  Id_7  Id_8  ...  Id_96  \\\n0  n_1  n_2   0.0   0.0   0.0   0.0   0.0   0.0   0.0   0.0  ...    0.0   \n1  n_1  n_3   0.0   0.0   0.0   0.0   0.0   0.0   0.0   0.0  ...    0.0   \n2  n_1  n_4   0.0   0.0   0.0   0.0   0.0   0.0   0.0   0.0  ...    0.0   \n3  n_1  n_5   0.0   0.0   0.0   0.0   0.0   0.0   0.0   0.0  ...    0.0   \n4  n_1  n_6   0.0   0.0   0.0   0.0   0.0   0.0   0.0   0.0  ...    0.0   \n\n   Id_97  Id_98  Id_99  Id_100  Id_101  Id_102  Id_103    Id_104  Id_105  \n0    0.0    0.0    0.0     0.0     0.0     0.0     0.0  0.016625     0.0  \n1    0.0    0.0    0.0     0.0     0.0     0.0     0.0  0.000731     0.0  \n2    0.0    0.0    0.0     0.0     0.0     0.0     0.0  0.690962     0.0  \n3    0.0    0.0    0.0     0.0     0.0     0.0     0.0  0.077986     0.0  \n4    0.0    0.0    0.0     0.0     0.0     0.0     0.0  0.027160     0.0  \n\n[5 rows x 107 columns]",
      "text/html": "<div>\n<style scoped>\n    .dataframe tbody tr th:only-of-type {\n        vertical-align: middle;\n    }\n\n    .dataframe tbody tr th {\n        vertical-align: top;\n    }\n\n    .dataframe thead th {\n        text-align: right;\n    }\n</style>\n<table border=\"1\" class=\"dataframe\">\n  <thead>\n    <tr style=\"text-align: right;\">\n      <th></th>\n      <th>p1</th>\n      <th>p2</th>\n      <th>Id_1</th>\n      <th>Id_2</th>\n      <th>Id_3</th>\n      <th>Id_4</th>\n      <th>Id_5</th>\n      <th>Id_6</th>\n      <th>Id_7</th>\n      <th>Id_8</th>\n      <th>...</th>\n      <th>Id_96</th>\n      <th>Id_97</th>\n      <th>Id_98</th>\n      <th>Id_99</th>\n      <th>Id_100</th>\n      <th>Id_101</th>\n      <th>Id_102</th>\n      <th>Id_103</th>\n      <th>Id_104</th>\n      <th>Id_105</th>\n    </tr>\n  </thead>\n  <tbody>\n    <tr>\n      <th>0</th>\n      <td>n_1</td>\n      <td>n_2</td>\n      <td>0.0</td>\n      <td>0.0</td>\n      <td>0.0</td>\n      <td>0.0</td>\n      <td>0.0</td>\n      <td>0.0</td>\n      <td>0.0</td>\n      <td>0.0</td>\n      <td>...</td>\n      <td>0.0</td>\n      <td>0.0</td>\n      <td>0.0</td>\n      <td>0.0</td>\n      <td>0.0</td>\n      <td>0.0</td>\n      <td>0.0</td>\n      <td>0.0</td>\n      <td>0.016625</td>\n      <td>0.0</td>\n    </tr>\n    <tr>\n      <th>1</th>\n      <td>n_1</td>\n      <td>n_3</td>\n      <td>0.0</td>\n      <td>0.0</td>\n      <td>0.0</td>\n      <td>0.0</td>\n      <td>0.0</td>\n      <td>0.0</td>\n      <td>0.0</td>\n      <td>0.0</td>\n      <td>...</td>\n      <td>0.0</td>\n      <td>0.0</td>\n      <td>0.0</td>\n      <td>0.0</td>\n      <td>0.0</td>\n      <td>0.0</td>\n      <td>0.0</td>\n      <td>0.0</td>\n      <td>0.000731</td>\n      <td>0.0</td>\n    </tr>\n    <tr>\n      <th>2</th>\n      <td>n_1</td>\n      <td>n_4</td>\n      <td>0.0</td>\n      <td>0.0</td>\n      <td>0.0</td>\n      <td>0.0</td>\n      <td>0.0</td>\n      <td>0.0</td>\n      <td>0.0</td>\n      <td>0.0</td>\n      <td>...</td>\n      <td>0.0</td>\n      <td>0.0</td>\n      <td>0.0</td>\n      <td>0.0</td>\n      <td>0.0</td>\n      <td>0.0</td>\n      <td>0.0</td>\n      <td>0.0</td>\n      <td>0.690962</td>\n      <td>0.0</td>\n    </tr>\n    <tr>\n      <th>3</th>\n      <td>n_1</td>\n      <td>n_5</td>\n      <td>0.0</td>\n      <td>0.0</td>\n      <td>0.0</td>\n      <td>0.0</td>\n      <td>0.0</td>\n      <td>0.0</td>\n      <td>0.0</td>\n      <td>0.0</td>\n      <td>...</td>\n      <td>0.0</td>\n      <td>0.0</td>\n      <td>0.0</td>\n      <td>0.0</td>\n      <td>0.0</td>\n      <td>0.0</td>\n      <td>0.0</td>\n      <td>0.0</td>\n      <td>0.077986</td>\n      <td>0.0</td>\n    </tr>\n    <tr>\n      <th>4</th>\n      <td>n_1</td>\n      <td>n_6</td>\n      <td>0.0</td>\n      <td>0.0</td>\n      <td>0.0</td>\n      <td>0.0</td>\n      <td>0.0</td>\n      <td>0.0</td>\n      <td>0.0</td>\n      <td>0.0</td>\n      <td>...</td>\n      <td>0.0</td>\n      <td>0.0</td>\n      <td>0.0</td>\n      <td>0.0</td>\n      <td>0.0</td>\n      <td>0.0</td>\n      <td>0.0</td>\n      <td>0.0</td>\n      <td>0.027160</td>\n      <td>0.0</td>\n    </tr>\n  </tbody>\n</table>\n<p>5 rows × 107 columns</p>\n</div>"
     },
     "execution_count": 49,
     "metadata": {},
     "output_type": "execute_result"
    }
   ],
   "source": [
    "result_df.head()"
   ],
   "metadata": {
    "collapsed": false
   }
  },
  {
   "cell_type": "code",
   "execution_count": 53,
   "outputs": [],
   "source": [
    "result_df.to_csv('data/raw/сystic_fibrosis_network_symmetrical_11_01_2023.csv', index=False)"
   ],
   "metadata": {
    "collapsed": false
   }
  }
 ],
 "metadata": {
  "kernelspec": {
   "display_name": "Python 3",
   "language": "python",
   "name": "python3"
  },
  "language_info": {
   "codemirror_mode": {
    "name": "ipython",
    "version": 2
   },
   "file_extension": ".py",
   "mimetype": "text/x-python",
   "name": "python",
   "nbconvert_exporter": "python",
   "pygments_lexer": "ipython2",
   "version": "2.7.6"
  }
 },
 "nbformat": 4,
 "nbformat_minor": 0
}
